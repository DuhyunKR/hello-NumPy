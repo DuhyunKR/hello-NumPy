{
  "nbformat": 4,
  "nbformat_minor": 0,
  "metadata": {
    "colab": {
      "provenance": [],
      "authorship_tag": "ABX9TyPO9txXm9f5HVGDT+YkhK15"
    },
    "kernelspec": {
      "name": "python3",
      "display_name": "Python 3"
    },
    "language_info": {
      "name": "python"
    }
  },
  "cells": [
    {
      "cell_type": "markdown",
      "source": [
        "## 데이터 유형"
      ],
      "metadata": {
        "id": "yvPrDaMXj0yh"
      }
    },
    {
      "cell_type": "code",
      "execution_count": 1,
      "metadata": {
        "id": "m2jcu-iwju6h"
      },
      "outputs": [],
      "source": [
        "import numpy as np"
      ]
    },
    {
      "cell_type": "markdown",
      "source": [
        "## Python의 데이터 유형\n",
        "\n",
        "- `strings` :  텍스트 데이터를 나타내는 데 사용되며 텍스트는 따옴표 안에 표시된다. ex) “ABCD”\n",
        "- `integer`:  정수를 표현하는데 사용된다. ex) 1.2 , 42.42\n",
        "- `float`: 실수를 표현하는데 사용된다.\n",
        "- `complex` : 복소수를 나타내는 데 사용된다. ex) 1.0 + 2.0j, 1.5 + 2.5j"
      ],
      "metadata": {
        "id": "iK-IxyNxlwDT"
      }
    },
    {
      "cell_type": "markdown",
      "source": [
        "## NumPy의 데이터 유형\n",
        "\n",
        "- `i`  - 정수\n",
        "- `b` - 불린\n",
        "- `u` - 부호 없는 정수\n",
        "- `f` - 실수\n",
        "- `c` - 복잡한 실수\n",
        "- `m` - 두 날짜나 시간의 차이인 기간\n",
        "- `M` - 날짜 시간\n",
        "- `O` - 객체(대문자 O)\n",
        "- `S` - string(대문자 S)\n",
        "- `U` - 유니코드 문자열(대문자 U)\n",
        "- `V` - 다른 유형에 대한 고정된 메모리(대문자 V)"
      ],
      "metadata": {
        "id": "wxG0vGYclxqb"
      }
    },
    {
      "cell_type": "code",
      "source": [
        "arr = np.array(['apple', 'banana', 'cherry'])\n",
        "print(arr)\n",
        "print(arr.dtype)\n",
        "print(type(arr))"
      ],
      "metadata": {
        "colab": {
          "base_uri": "https://localhost:8080/"
        },
        "id": "eN13brecl1BM",
        "outputId": "f9347b9a-89aa-4418-cc26-8cd83415be0c"
      },
      "execution_count": 4,
      "outputs": [
        {
          "output_type": "stream",
          "name": "stdout",
          "text": [
            "['apple' 'banana' 'cherry']\n",
            "<U6\n",
            "<class 'numpy.ndarray'>\n"
          ]
        }
      ]
    },
    {
      "cell_type": "code",
      "source": [
        "arr = np.array([1,2,3,4,])\n",
        "print(arr)\n",
        "print(arr.dtype)\n",
        "print(type(arr))"
      ],
      "metadata": {
        "colab": {
          "base_uri": "https://localhost:8080/"
        },
        "id": "dWEFMuaKmJ04",
        "outputId": "5bd0a8f5-4cbe-4f40-ed6a-46059bcc3b91"
      },
      "execution_count": 6,
      "outputs": [
        {
          "output_type": "stream",
          "name": "stdout",
          "text": [
            "[1 2 3 4]\n",
            "int64\n",
            "<class 'numpy.ndarray'>\n"
          ]
        }
      ]
    },
    {
      "cell_type": "markdown",
      "source": [
        "# 정의된 데이터 유형으로 배열 생성"
      ],
      "metadata": {
        "id": "n3nZwFtWmhMV"
      }
    },
    {
      "cell_type": "code",
      "source": [
        "arr = np.array([1,2,3,4], dtype='S')\n",
        "print(arr)\n",
        "print(arr.dtype)\n",
        "print(type(arr))"
      ],
      "metadata": {
        "colab": {
          "base_uri": "https://localhost:8080/"
        },
        "id": "kKxbshAkmjqu",
        "outputId": "1d54f492-8af2-4011-fb0a-88906423713e"
      },
      "execution_count": 7,
      "outputs": [
        {
          "output_type": "stream",
          "name": "stdout",
          "text": [
            "[b'1' b'2' b'3' b'4']\n",
            "|S1\n",
            "<class 'numpy.ndarray'>\n"
          ]
        }
      ]
    },
    {
      "cell_type": "code",
      "source": [
        "# 데이터 유형이 4바이트 정수인 배열\n",
        "arr = np.array([1,2,3,4], dtype='i4')\n",
        "print(arr)\n",
        "print(arr.dtype)"
      ],
      "metadata": {
        "colab": {
          "base_uri": "https://localhost:8080/"
        },
        "id": "JaPUm6tom_g3",
        "outputId": "7f25f3d1-c3ab-418b-ce31-72d48e2d8096"
      },
      "execution_count": 10,
      "outputs": [
        {
          "output_type": "stream",
          "name": "stdout",
          "text": [
            "[1 2 3 4]\n",
            "int32\n"
          ]
        }
      ]
    },
    {
      "cell_type": "markdown",
      "source": [
        "# 기존 array의 데이터 유형 변환"
      ],
      "metadata": {
        "id": "GHKEeHVFnrvo"
      }
    },
    {
      "cell_type": "code",
      "source": [
        "arr = np.array([1.1, 2.1, 3.1])\n",
        "\n",
        "newarr = arr.astype('i')     #int로 형 변환\n",
        "\n",
        "print(arr)\n",
        "print(arr.dtype)\n",
        "print(newarr)\n",
        "print(newarr.dtype)"
      ],
      "metadata": {
        "colab": {
          "base_uri": "https://localhost:8080/"
        },
        "id": "OplSd7GUng4m",
        "outputId": "e01bc954-d748-4c69-84cd-2cee0ff8a922"
      },
      "execution_count": 13,
      "outputs": [
        {
          "output_type": "stream",
          "name": "stdout",
          "text": [
            "[1.1 2.1 3.1]\n",
            "float64\n",
            "[1 2 3]\n",
            "int32\n"
          ]
        }
      ]
    },
    {
      "cell_type": "code",
      "source": [
        "arr = np.array([1, 0, 3])\n",
        "\n",
        "newarr = arr.astype(bool)      #boolean으로 형 변환\n",
        "\n",
        "print(arr)\n",
        "print(arr.dtype)\n",
        "print(newarr)\n",
        "print(newarr.dtype)"
      ],
      "metadata": {
        "colab": {
          "base_uri": "https://localhost:8080/"
        },
        "id": "qMRzs1FTprW5",
        "outputId": "90a9ff8b-20c4-4a7b-8ecc-8a9b604ffd53"
      },
      "execution_count": 14,
      "outputs": [
        {
          "output_type": "stream",
          "name": "stdout",
          "text": [
            "[1 0 3]\n",
            "int64\n",
            "[ True False  True]\n",
            "bool\n"
          ]
        }
      ]
    }
  ]
}