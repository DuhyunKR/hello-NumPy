{
  "nbformat": 4,
  "nbformat_minor": 0,
  "metadata": {
    "colab": {
      "provenance": [],
      "authorship_tag": "ABX9TyN+cJfURDmWHtJwRnRCm1L1"
    },
    "kernelspec": {
      "name": "python3",
      "display_name": "Python 3"
    },
    "language_info": {
      "name": "python"
    }
  },
  "cells": [
    {
      "cell_type": "markdown",
      "source": [
        "## 배열 정렬"
      ],
      "metadata": {
        "id": "SFlf8SJ3JeP0"
      }
    },
    {
      "cell_type": "code",
      "execution_count": 1,
      "metadata": {
        "id": "0b8j1ugiJZas"
      },
      "outputs": [],
      "source": [
        "import numpy as np"
      ]
    },
    {
      "cell_type": "code",
      "source": [
        "arr = np.array([3,0,2,1,4])\n",
        "print(np.sort(arr)) # 오름차순"
      ],
      "metadata": {
        "colab": {
          "base_uri": "https://localhost:8080/"
        },
        "id": "gbJr46l9J0oT",
        "outputId": "c9a0aa99-aa53-4595-bab9-3a05492a9419"
      },
      "execution_count": 3,
      "outputs": [
        {
          "output_type": "stream",
          "name": "stdout",
          "text": [
            "[0 1 2 3 4]\n"
          ]
        }
      ]
    },
    {
      "cell_type": "code",
      "source": [
        "arr = np.array(['banana', 'cherry', 'apple'])\n",
        "print(np.sort(arr)) # 오름차순"
      ],
      "metadata": {
        "colab": {
          "base_uri": "https://localhost:8080/"
        },
        "id": "N-L_yrF9KLGs",
        "outputId": "19e22d98-c62f-422d-fff0-e8ff8c1787f7"
      },
      "execution_count": 4,
      "outputs": [
        {
          "output_type": "stream",
          "name": "stdout",
          "text": [
            "['apple' 'banana' 'cherry']\n"
          ]
        }
      ]
    },
    {
      "cell_type": "code",
      "source": [
        "# 내림차순 = np.sort()[::-1]\n",
        "arr = np.array([1,4,5,2,3,9])\n",
        "print(np.sort(arr)[::-1]) # 내림차순"
      ],
      "metadata": {
        "colab": {
          "base_uri": "https://localhost:8080/"
        },
        "id": "Gs7thl2YK4dx",
        "outputId": "e6f5143d-0124-4be5-e69a-3fc918a94e19"
      },
      "execution_count": 5,
      "outputs": [
        {
          "output_type": "stream",
          "name": "stdout",
          "text": [
            "[9 5 4 3 2 1]\n"
          ]
        }
      ]
    },
    {
      "cell_type": "markdown",
      "source": [
        "# 2차원 배열 정렬"
      ],
      "metadata": {
        "id": "lFTiGMnnLRi-"
      }
    },
    {
      "cell_type": "code",
      "source": [
        "arr = np.array([[3,2,4],[4,0,3]])\n",
        "print(arr)\n",
        "print(arr.shape)\n",
        "print(\"------\")\n",
        "print(np.sort(arr)) # 오름차순"
      ],
      "metadata": {
        "colab": {
          "base_uri": "https://localhost:8080/"
        },
        "id": "-DCvaVCsLS9N",
        "outputId": "4a9bf9e2-9a51-4e8c-d698-9f7ff5658894"
      },
      "execution_count": 12,
      "outputs": [
        {
          "output_type": "stream",
          "name": "stdout",
          "text": [
            "[[3 2 4]\n",
            " [4 0 3]]\n",
            "(2, 3)\n",
            "------\n",
            "[[2 3 4]\n",
            " [0 3 4]]\n"
          ]
        }
      ]
    }
  ]
}