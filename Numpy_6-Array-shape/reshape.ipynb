{
  "nbformat": 4,
  "nbformat_minor": 0,
  "metadata": {
    "colab": {
      "provenance": [],
      "authorship_tag": "ABX9TyP/J5ksRElqtTJzejK7kR76"
    },
    "kernelspec": {
      "name": "python3",
      "display_name": "Python 3"
    },
    "language_info": {
      "name": "python"
    }
  },
  "cells": [
    {
      "cell_type": "markdown",
      "source": [
        "## Array Shape"
      ],
      "metadata": {
        "id": "erRPimL6ocpz"
      }
    },
    {
      "cell_type": "markdown",
      "source": [
        "`shape` NumPy 배열에는 해당 요소의 수를 갖는 각 인덱스가 있는 튜플을 반환하는 속성"
      ],
      "metadata": {
        "id": "D1tIo1PapK7D"
      }
    },
    {
      "cell_type": "code",
      "execution_count": 1,
      "metadata": {
        "id": "rpBbrzi_mFNO"
      },
      "outputs": [],
      "source": [
        "import numpy as np"
      ]
    },
    {
      "cell_type": "code",
      "source": [
        "arr = np.array([[1,2,3,4,],[5,6,7,8]])\n",
        "print(arr)\n",
        "print(arr.shape)\n",
        "# (2, 4) 배열에 2차원이 있음을 의미한다. 첫번째 차원은 2개의 요소 두번째 차원은 4개의 요소"
      ],
      "metadata": {
        "colab": {
          "base_uri": "https://localhost:8080/"
        },
        "id": "KbTHzuvppaXC",
        "outputId": "51b201be-cd94-4072-fb24-ecb8ccc01d53"
      },
      "execution_count": 7,
      "outputs": [
        {
          "output_type": "stream",
          "name": "stdout",
          "text": [
            "[[1 2 3 4]\n",
            " [5 6 7 8]]\n",
            "(2, 4)\n"
          ]
        }
      ]
    },
    {
      "cell_type": "code",
      "source": [
        "# ndim 활용\n",
        "arr = np.array([1,2,3,4,], ndmin=5)\n",
        "print(arr)\n",
        "print(\"배열의 크기\", arr.shape)"
      ],
      "metadata": {
        "colab": {
          "base_uri": "https://localhost:8080/"
        },
        "id": "RClykV2HqE8G",
        "outputId": "29f47563-ddb2-415a-ccdb-e4b8d1727930"
      },
      "execution_count": 8,
      "outputs": [
        {
          "output_type": "stream",
          "name": "stdout",
          "text": [
            "[[[[[1 2 3 4]]]]]\n",
            "배열의 크기 (1, 1, 1, 1, 4)\n"
          ]
        }
      ]
    },
    {
      "cell_type": "markdown",
      "source": [
        "## Array reshape"
      ],
      "metadata": {
        "id": "EWXczUTErwJE"
      }
    },
    {
      "cell_type": "code",
      "source": [
        "arr = np.array([1,2,3,4,5,6,7,8,9,10,11,12])  # 1차원\n",
        "print(arr)\n",
        "print(arr.shape)\n",
        "newarr = arr.reshape(4,3)  # 2차원으로 변경\n",
        "print(newarr)"
      ],
      "metadata": {
        "colab": {
          "base_uri": "https://localhost:8080/"
        },
        "id": "1OchvAeSrvfG",
        "outputId": "5bcf9d43-4907-49f8-d08b-0a2cf2507c38"
      },
      "execution_count": 11,
      "outputs": [
        {
          "output_type": "stream",
          "name": "stdout",
          "text": [
            "[ 1  2  3  4  5  6  7  8  9 10 11 12]\n",
            "(12,)\n",
            "[[ 1  2  3]\n",
            " [ 4  5  6]\n",
            " [ 7  8  9]\n",
            " [10 11 12]]\n"
          ]
        }
      ]
    },
    {
      "cell_type": "code",
      "source": [
        "# 1차원 -> 3차원 변경\n",
        "arr = np.array([1,2,3,4,5,6,7,8,9,10,11,12])\n",
        "newarr = arr.reshape(2,3,2)\n",
        "print(arr)\n",
        "print(arr.shape)\n",
        "print(newarr)\n",
        "print(newarr.shape)"
      ],
      "metadata": {
        "colab": {
          "base_uri": "https://localhost:8080/"
        },
        "id": "zHAKVl8OtdkN",
        "outputId": "4401dd3a-1f57-48f6-e118-328df92edabb"
      },
      "execution_count": 12,
      "outputs": [
        {
          "output_type": "stream",
          "name": "stdout",
          "text": [
            "[ 1  2  3  4  5  6  7  8  9 10 11 12]\n",
            "(12,)\n",
            "[[[ 1  2]\n",
            "  [ 3  4]\n",
            "  [ 5  6]]\n",
            "\n",
            " [[ 7  8]\n",
            "  [ 9 10]\n",
            "  [11 12]]]\n",
            "(2, 3, 2)\n"
          ]
        }
      ]
    },
    {
      "cell_type": "code",
      "source": [
        "# 2차원 -> 3차원\n",
        "arr = np.array([[1,2,3,4,5,6],[7,8,9,10,11,12]])\n",
        "newarr = arr.reshape(2,3,2)\n",
        "print(arr)\n",
        "print(arr.shape)\n",
        "print(newarr)\n",
        "print(newarr.shape)"
      ],
      "metadata": {
        "colab": {
          "base_uri": "https://localhost:8080/"
        },
        "id": "5-9c6Fgauh0y",
        "outputId": "f5f8e779-1ecf-4e13-d777-85cb2ea80d2d"
      },
      "execution_count": 19,
      "outputs": [
        {
          "output_type": "stream",
          "name": "stdout",
          "text": [
            "[[ 1  2  3  4  5  6]\n",
            " [ 7  8  9 10 11 12]]\n",
            "(2, 6)\n",
            "[[[ 1  2]\n",
            "  [ 3  4]\n",
            "  [ 5  6]]\n",
            "\n",
            " [[ 7  8]\n",
            "  [ 9 10]\n",
            "  [11 12]]]\n",
            "(2, 3, 2)\n"
          ]
        }
      ]
    },
    {
      "cell_type": "code",
      "source": [
        "#3차원 -> 1차원\n",
        "arr = np.array([[[1,2,3],[4,5,6]],[[7,8,9],[10,11,12]]]) # shape(2,2,3)\n",
        "newarr = arr.reshape(-1)\n",
        "print(arr)\n",
        "print(arr.shape)\n",
        "print(newarr)\n",
        "print(newarr.shape)"
      ],
      "metadata": {
        "colab": {
          "base_uri": "https://localhost:8080/"
        },
        "id": "1amQfHyMu2e5",
        "outputId": "0534d888-8e0c-4495-8a08-4fd518496b60"
      },
      "execution_count": 21,
      "outputs": [
        {
          "output_type": "stream",
          "name": "stdout",
          "text": [
            "[[[ 1  2  3]\n",
            "  [ 4  5  6]]\n",
            "\n",
            " [[ 7  8  9]\n",
            "  [10 11 12]]]\n",
            "(2, 2, 3)\n",
            "[ 1  2  3  4  5  6  7  8  9 10 11 12]\n",
            "(12,)\n"
          ]
        }
      ]
    },
    {
      "cell_type": "code",
      "source": [
        "#3차원 -> 2차원\n",
        "arr = np.array([[[1,2,3],[4,5,6]],[[7,8,9],[10,11,12]]]) # shape(2,2,3)\n",
        "newarr = arr.reshape(2,6)\n",
        "print(arr)\n",
        "print(arr.shape)\n",
        "print(newarr)\n",
        "print(newarr.shape)"
      ],
      "metadata": {
        "colab": {
          "base_uri": "https://localhost:8080/"
        },
        "id": "MIIBXEwMwPyN",
        "outputId": "5de8918d-22f0-4729-aa19-e88661b89853"
      },
      "execution_count": 22,
      "outputs": [
        {
          "output_type": "stream",
          "name": "stdout",
          "text": [
            "[[[ 1  2  3]\n",
            "  [ 4  5  6]]\n",
            "\n",
            " [[ 7  8  9]\n",
            "  [10 11 12]]]\n",
            "(2, 2, 3)\n",
            "[[ 1  2  3  4  5  6]\n",
            " [ 7  8  9 10 11 12]]\n",
            "(2, 6)\n"
          ]
        }
      ]
    }
  ]
}