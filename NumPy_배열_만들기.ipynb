{
  "nbformat": 4,
  "nbformat_minor": 0,
  "metadata": {
    "colab": {
      "provenance": [],
      "authorship_tag": "ABX9TyNF/1UyG2ph+YtCwbG7lu9k"
    },
    "kernelspec": {
      "name": "python3",
      "display_name": "Python 3"
    },
    "language_info": {
      "name": "python"
    }
  },
  "cells": [
    {
      "cell_type": "markdown",
      "source": [
        "## 1장 배열만들기"
      ],
      "metadata": {
        "id": "1XyKl_NPzXZq"
      }
    },
    {
      "cell_type": "code",
      "execution_count": 6,
      "metadata": {
        "id": "KiBHN8mnvcox"
      },
      "outputs": [],
      "source": [
        "import numpy as np"
      ]
    },
    {
      "cell_type": "code",
      "source": [
        "arr = np.array([1,2,3,4,5])\n",
        "print(arr)\n",
        "print(type(arr))   ##type() 함수를 이용해 전달된 객체의 유형을 알수있다."
      ],
      "metadata": {
        "colab": {
          "base_uri": "https://localhost:8080/"
        },
        "id": "207w9R5eyGig",
        "outputId": "096f552d-fa3d-4900-f26d-fc71be617959"
      },
      "execution_count": 7,
      "outputs": [
        {
          "output_type": "stream",
          "name": "stdout",
          "text": [
            "[1 2 3 4 5]\n",
            "<class 'numpy.ndarray'>\n"
          ]
        }
      ]
    },
    {
      "cell_type": "code",
      "source": [
        "arr = np.array((1,2,3,4,5))\n",
        "print(arr)\n",
        "print(type(arr))"
      ],
      "metadata": {
        "colab": {
          "base_uri": "https://localhost:8080/"
        },
        "id": "AwAZPiRwzkBF",
        "outputId": "9b3067dc-3852-48d5-e268-d756d33685ab"
      },
      "execution_count": 10,
      "outputs": [
        {
          "output_type": "stream",
          "name": "stdout",
          "text": [
            "[1 2 3 4 5]\n",
            "<class 'numpy.ndarray'>\n"
          ]
        }
      ]
    },
    {
      "cell_type": "markdown",
      "source": [
        "## 배열의 차원"
      ],
      "metadata": {
        "id": "9dAXYsU_0A91"
      }
    },
    {
      "cell_type": "code",
      "source": [
        "## 0차원 배열\n",
        "arr = np.array(42)\n",
        "print(arr)\n",
        "print(type(arr))"
      ],
      "metadata": {
        "colab": {
          "base_uri": "https://localhost:8080/"
        },
        "id": "iUgOPqz20CSc",
        "outputId": "250f82af-5f45-473c-9d8f-f043db7d14b8"
      },
      "execution_count": 11,
      "outputs": [
        {
          "output_type": "stream",
          "name": "stdout",
          "text": [
            "42\n",
            "<class 'numpy.ndarray'>\n"
          ]
        }
      ]
    },
    {
      "cell_type": "code",
      "source": [
        "# 값이 1,2,3,4,5를 포함하는 1차원 배열을 만든다\n",
        "arr = np.array([1,2,3,4,5])\n",
        "print(arr)\n",
        "print(type(arr))"
      ],
      "metadata": {
        "colab": {
          "base_uri": "https://localhost:8080/"
        },
        "id": "uubH0ptl0Kle",
        "outputId": "8071b9b8-a215-404f-a19a-c03bb31ecdac"
      },
      "execution_count": 12,
      "outputs": [
        {
          "output_type": "stream",
          "name": "stdout",
          "text": [
            "[1 2 3 4 5]\n",
            "<class 'numpy.ndarray'>\n"
          ]
        }
      ]
    },
    {
      "cell_type": "code",
      "source": [
        "## 값이 1,2,3 및 4,5,6 인 두 개의 배열을 포함하는 2차원 배열을 만든다.\n",
        "arr = np.array([[1,2,3],[4,5,6]])\n",
        "print(arr)\n",
        "print(type(arr))"
      ],
      "metadata": {
        "colab": {
          "base_uri": "https://localhost:8080/"
        },
        "id": "UkoDt_OJ08TG",
        "outputId": "3484c5a2-d43f-4696-de36-ea4cb90ad21b"
      },
      "execution_count": 13,
      "outputs": [
        {
          "output_type": "stream",
          "name": "stdout",
          "text": [
            "[[1 2 3]\n",
            " [4 5 6]]\n",
            "<class 'numpy.ndarray'>\n"
          ]
        }
      ]
    },
    {
      "cell_type": "code",
      "source": [
        "## 값이 1,2,3 및 4,5,6인 두 개의 배열을 포함하는 두 개의 2차원 배열을 사용하여 3차원 배열을 만든다.\n",
        "arr = np.array([[[1,2,3],[4,5,6]],[[1,2,3],[4,5,6]]])\n",
        "print(arr)\n",
        "print(type(arr))"
      ],
      "metadata": {
        "colab": {
          "base_uri": "https://localhost:8080/"
        },
        "id": "7anWsKAB1kvL",
        "outputId": "c9ea7e9b-c3bd-415f-9f73-74db77a60fb3"
      },
      "execution_count": 14,
      "outputs": [
        {
          "output_type": "stream",
          "name": "stdout",
          "text": [
            "[[[1 2 3]\n",
            "  [4 5 6]]\n",
            "\n",
            " [[1 2 3]\n",
            "  [4 5 6]]]\n",
            "<class 'numpy.ndarray'>\n"
          ]
        }
      ]
    },
    {
      "cell_type": "markdown",
      "source": [
        "## 배열의 차원 수 확인"
      ],
      "metadata": {
        "id": "d_ygef8L176j"
      }
    },
    {
      "cell_type": "code",
      "source": [
        "## NumPy array는 ndim 배열의 차원 수를 알려주는 정수를 반환하는 속성을 제\n",
        "a = np.array(42)\n",
        "b = np.array([1,2,3,4,5])\n",
        "c = np.array([[1,2,3],[4,5,6]])\n",
        "d = np.array([[[1,2,3],[4,5,6]],[[1,2,3],[4,5,6]]])\n",
        "\n",
        "print(\"차원 수 :\", a.ndim)\n",
        "print(\"차원 수 :\", b.ndim)\n",
        "print(\"차원 수 :\", c.ndim)\n",
        "print(\"차원 수 :\", d.ndim)"
      ],
      "metadata": {
        "colab": {
          "base_uri": "https://localhost:8080/"
        },
        "id": "JafOvzcf1_bY",
        "outputId": "0743d940-e3e7-4ab4-9fdc-ad08698fdf44"
      },
      "execution_count": 17,
      "outputs": [
        {
          "output_type": "stream",
          "name": "stdout",
          "text": [
            "차원 수 : 0\n",
            "차원 수 : 1\n",
            "차원 수 : 2\n",
            "차원 수 : 3\n"
          ]
        }
      ]
    },
    {
      "cell_type": "markdown",
      "source": [
        "## 고차원 배열"
      ],
      "metadata": {
        "id": "N-dFholL3JV9"
      }
    },
    {
      "cell_type": "code",
      "source": [
        "# 5차원 배열을 만들고 5차원인지 확인하\n",
        "arr = np.array([1,2,3,4,5], ndmin=5)\n",
        "print(arr)\n",
        "print('차원 수 :', arr.ndim)"
      ],
      "metadata": {
        "colab": {
          "base_uri": "https://localhost:8080/"
        },
        "id": "2cWD2T2i3Kw1",
        "outputId": "df9e28d0-bb48-4aee-87b8-3fa7e95145b7"
      },
      "execution_count": 21,
      "outputs": [
        {
          "output_type": "stream",
          "name": "stdout",
          "text": [
            "[[[[[1 2 3 4 5]]]]]\n",
            "차원 수 : 5\n"
          ]
        }
      ]
    }
  ]
}