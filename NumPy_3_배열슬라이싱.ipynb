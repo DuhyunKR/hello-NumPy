{
  "nbformat": 4,
  "nbformat_minor": 0,
  "metadata": {
    "colab": {
      "provenance": [],
      "authorship_tag": "ABX9TyOjTF/8vW25RrlT0e0F9nhO"
    },
    "kernelspec": {
      "name": "python3",
      "display_name": "Python 3"
    },
    "language_info": {
      "name": "python"
    }
  },
  "cells": [
    {
      "cell_type": "markdown",
      "source": [
        "## 배열슬라이싱"
      ],
      "metadata": {
        "id": "LwVollAkF5ko"
      }
    },
    {
      "cell_type": "code",
      "execution_count": 2,
      "metadata": {
        "id": "IsIRliexFXJx"
      },
      "outputs": [],
      "source": [
        "import numpy as np"
      ]
    },
    {
      "cell_type": "code",
      "source": [
        "arr = np.array([1,2,3,4,5,6,7,8,9,10])\n",
        "print(arr)\n",
        "print(arr[1:5])  # 2번째 자리부터 4번째 자리까지 출력"
      ],
      "metadata": {
        "colab": {
          "base_uri": "https://localhost:8080/"
        },
        "id": "TBb9wWFpGDMl",
        "outputId": "b084c0ac-0166-434c-be46-d2a6af27c527"
      },
      "execution_count": null,
      "outputs": [
        {
          "output_type": "stream",
          "name": "stdout",
          "text": [
            "[ 1  2  3  4  5  6  7  8  9 10]\n",
            "[2 3 4 5]\n"
          ]
        }
      ]
    },
    {
      "cell_type": "code",
      "source": [
        "arr = np.array([1,2,3,4,5,6,7])\n",
        "print(arr)\n",
        "print(arr[4:]) #4번째 자리부터 끝까지\n",
        "print(arr[:4]) #처음부터 4번째 자리까지\n"
      ],
      "metadata": {
        "colab": {
          "base_uri": "https://localhost:8080/"
        },
        "id": "EyAmV2bnHvST",
        "outputId": "bf37b470-7246-455a-d22e-fecaf31ebbf6"
      },
      "execution_count": null,
      "outputs": [
        {
          "output_type": "stream",
          "name": "stdout",
          "text": [
            "[1 2 3 4 5 6 7]\n",
            "[5 6 7]\n",
            "[1 2 3 4]\n"
          ]
        }
      ]
    },
    {
      "cell_type": "markdown",
      "source": [
        "# 음수 슬라이싱"
      ],
      "metadata": {
        "id": "1k4G5o07Iauu"
      }
    },
    {
      "cell_type": "code",
      "source": [
        "arr = np.array([1,2,3,4,5,6,7])\n",
        "print(arr)\n",
        "print(arr[-3:-1]) #뒤에서 3번째 자리 부터 뒤에서 1번 자리까지"
      ],
      "metadata": {
        "colab": {
          "base_uri": "https://localhost:8080/"
        },
        "id": "X8JTnKdPIcl1",
        "outputId": "16ddbc6b-0185-40aa-f762-8eed4d6142c5"
      },
      "execution_count": null,
      "outputs": [
        {
          "output_type": "stream",
          "name": "stdout",
          "text": [
            "[1 2 3 4 5 6 7]\n",
            "[5 6]\n"
          ]
        }
      ]
    },
    {
      "cell_type": "markdown",
      "source": [
        "# 단계 슬라이싱"
      ],
      "metadata": {
        "id": "5IgJelbUJ-Rd"
      }
    },
    {
      "cell_type": "code",
      "source": [
        "arr = np.array([1,2,3,4,5,6,7])\n",
        "print(arr)\n",
        "print(arr[1:5:2])  #[start : end : step] #[2번째자리 부터 : 5번째자리 전까지 : 2칸씩]\n",
        "print(arr[::2])  # 전체 배열에서 짝수 빼고 출력"
      ],
      "metadata": {
        "colab": {
          "base_uri": "https://localhost:8080/"
        },
        "id": "YjIHtMtuJ_Ph",
        "outputId": "dd156535-53d5-4b73-b5ab-4572759db06e"
      },
      "execution_count": null,
      "outputs": [
        {
          "output_type": "stream",
          "name": "stdout",
          "text": [
            "[1 2 3 4 5 6 7]\n",
            "[2 4]\n",
            "[1 3 5 7]\n"
          ]
        }
      ]
    },
    {
      "cell_type": "markdown",
      "source": [
        "# 2차원 배열 분할하기"
      ],
      "metadata": {
        "id": "hJLymCMkMFel"
      }
    },
    {
      "cell_type": "code",
      "source": [
        "arr = np.array([[1,2,3,4,5],[6,7,8,9,10]])\n",
        "print(arr)\n",
        "print(arr[1, 1:4])  # 2번째 배열에서 2번째자리 부터 5번째자리 전까지\n",
        "print(arr[0, 0:3]) # 1번째 배열에서 1번 자리부터 3번째자리 전까지\n",
        "print(arr[0:2 , 2]) # 1번, 2번 배열에서 2번째 요소 모두 출력\n",
        "print(arr[0:2, 1:4]) # 1번, 2번 배열에서 2번째 요소 부터 5번째자리전 요소까지 모두 출력"
      ],
      "metadata": {
        "colab": {
          "base_uri": "https://localhost:8080/"
        },
        "id": "L5m5o37wMG9Q",
        "outputId": "175de656-7abd-48b5-a493-f35c4fefcaee"
      },
      "execution_count": 3,
      "outputs": [
        {
          "output_type": "stream",
          "name": "stdout",
          "text": [
            "[[ 1  2  3  4  5]\n",
            " [ 6  7  8  9 10]]\n",
            "[7 8 9]\n",
            "[1 2 3]\n",
            "[3 8]\n",
            "[[2 3 4]\n",
            " [7 8 9]]\n"
          ]
        }
      ]
    }
  ]
}