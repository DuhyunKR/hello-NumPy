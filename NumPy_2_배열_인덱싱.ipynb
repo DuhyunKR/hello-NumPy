{
  "nbformat": 4,
  "nbformat_minor": 0,
  "metadata": {
    "colab": {
      "provenance": [],
      "toc_visible": true,
      "authorship_tag": "ABX9TyNUJzi3pWmshBBlwBQMZ164"
    },
    "kernelspec": {
      "name": "python3",
      "display_name": "Python 3"
    },
    "language_info": {
      "name": "python"
    }
  },
  "cells": [
    {
      "cell_type": "markdown",
      "source": [
        "## 2장 배열 인덱싱"
      ],
      "metadata": {
        "id": "jxZEdQhX7utS"
      }
    },
    {
      "cell_type": "code",
      "execution_count": null,
      "metadata": {
        "id": "RwRKWkY552Zb"
      },
      "outputs": [],
      "source": [
        "import numpy as np"
      ]
    },
    {
      "cell_type": "code",
      "source": [
        "# 배열의 요소를 가져오기\n",
        "arr = np.array([1,2,3,4])\n",
        "print('배열의 첫 번째 요소 확인:',arr[0])\n",
        "print(\"배열의 두 번째 요소 확인:\",arr[1])\n",
        "print('배열의 세 번째 요소 확인:',arr[2])\n",
        "print('배열의 네 번째 요소 확인:',arr[3])"
      ],
      "metadata": {
        "colab": {
          "base_uri": "https://localhost:8080/"
        },
        "id": "OfKqHrLx7yO1",
        "outputId": "d8cfaacb-34e5-4e48-ff18-0377ef26199f"
      },
      "execution_count": 4,
      "outputs": [
        {
          "output_type": "stream",
          "name": "stdout",
          "text": [
            "배열의 첫 번째 요소 확인: 1\n",
            "배열의 두 번째 요소 확인: 2\n",
            "배열의 세 번째 요소 확인: 3\n",
            "배열의 네 번째 요소 확인: 4\n"
          ]
        }
      ]
    },
    {
      "cell_type": "markdown",
      "source": [
        "# 2차원 배열에 액세스"
      ],
      "metadata": {
        "id": "kAuWLpPW9z6d"
      }
    },
    {
      "cell_type": "code",
      "source": [
        "arr = np.array([[1,2,3,4,5], [6,7,8,9,10]])\n",
        "print(arr)\n",
        "print(\"첫번째 행의 두번째 열\", arr[0,1])\n",
        "print(\"두번째 행의 다섯번째 열\", arr[1,4])"
      ],
      "metadata": {
        "colab": {
          "base_uri": "https://localhost:8080/"
        },
        "id": "rYavon1q95xh",
        "outputId": "d37d95ea-9b54-4a6d-f78f-788e63c94e10"
      },
      "execution_count": 7,
      "outputs": [
        {
          "output_type": "stream",
          "name": "stdout",
          "text": [
            "[[ 1  2  3  4  5]\n",
            " [ 6  7  8  9 10]]\n",
            "첫번째 행의 두번째 열 2\n",
            "두번째 행의 다섯번째 열 10\n"
          ]
        }
      ]
    },
    {
      "cell_type": "markdown",
      "source": [
        "# 3차원 배열에 액세스"
      ],
      "metadata": {
        "id": "LkInYYJv_CFo"
      }
    },
    {
      "cell_type": "code",
      "source": [
        "arr = np.array([[[1,2,3,],[4,5,6]], [[7,8,9],[10,11,12]]])\n",
        "print(arr)\n",
        "print(arr[0,1,2])"
      ],
      "metadata": {
        "colab": {
          "base_uri": "https://localhost:8080/"
        },
        "id": "sdLb80ak_Exf",
        "outputId": "f82f0e40-614b-4ac5-eb07-1eaf830783d8"
      },
      "execution_count": 10,
      "outputs": [
        {
          "output_type": "stream",
          "name": "stdout",
          "text": [
            "[[[ 1  2  3]\n",
            "  [ 4  5  6]]\n",
            "\n",
            " [[ 7  8  9]\n",
            "  [10 11 12]]]\n",
            "6\n"
          ]
        }
      ]
    },
    {
      "cell_type": "markdown",
      "source": [
        "# 음수 인덱싱"
      ],
      "metadata": {
        "id": "ACzM9qrnDtTy"
      }
    },
    {
      "cell_type": "code",
      "source": [
        "arr = np.array([[1,2,3,4,5], [6,7,8,9,10]])\n",
        "print(arr)\n",
        "print('2차원에서의 마지막 원소:', arr[1, -1])"
      ],
      "metadata": {
        "colab": {
          "base_uri": "https://localhost:8080/"
        },
        "id": "Kzl79PEGDvCC",
        "outputId": "9ead2a2e-cc6f-4e05-add7-38c8bfcf2f44"
      },
      "execution_count": 12,
      "outputs": [
        {
          "output_type": "stream",
          "name": "stdout",
          "text": [
            "[[ 1  2  3  4  5]\n",
            " [ 6  7  8  9 10]]\n",
            "2차원에서의 마지막 원소: 10\n"
          ]
        }
      ]
    }
  ]
}