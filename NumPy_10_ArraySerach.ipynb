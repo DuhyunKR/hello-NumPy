{
  "nbformat": 4,
  "nbformat_minor": 0,
  "metadata": {
    "colab": {
      "provenance": [],
      "authorship_tag": "ABX9TyNPu+k38t9SYDCcot35B04s"
    },
    "kernelspec": {
      "name": "python3",
      "display_name": "Python 3"
    },
    "language_info": {
      "name": "python"
    }
  },
  "cells": [
    {
      "cell_type": "markdown",
      "source": [
        "## 배열 검색"
      ],
      "metadata": {
        "id": "_83Z3ZVmCTOg"
      }
    },
    {
      "cell_type": "code",
      "execution_count": 1,
      "metadata": {
        "id": "-BL-Z57YCOyB"
      },
      "outputs": [],
      "source": [
        "import numpy as np"
      ]
    },
    {
      "cell_type": "code",
      "source": [
        "arr = np.array([1,2,3,4,5,4,4])\n",
        "x = np.where(arr == 4)\n",
        "print(x)"
      ],
      "metadata": {
        "colab": {
          "base_uri": "https://localhost:8080/"
        },
        "id": "qPreiXSoCn5r",
        "outputId": "bff66ec0-74e9-437d-af0b-f5b0eb1ccb1d"
      },
      "execution_count": 2,
      "outputs": [
        {
          "output_type": "stream",
          "name": "stdout",
          "text": [
            "(array([3, 5, 6]),)\n"
          ]
        }
      ]
    },
    {
      "cell_type": "code",
      "source": [
        "# 짝수 인덱스 찾기\n",
        "arr = np.array([1,2,3,4,5,6,7,8,])\n",
        "x = np.where(arr % 2 == 0)\n",
        "print(x)"
      ],
      "metadata": {
        "colab": {
          "base_uri": "https://localhost:8080/"
        },
        "id": "0GjN_FyaGwBn",
        "outputId": "793468b0-2f6e-483e-ab4c-11eff73830bb"
      },
      "execution_count": 3,
      "outputs": [
        {
          "output_type": "stream",
          "name": "stdout",
          "text": [
            "(array([1, 3, 5, 7]),)\n"
          ]
        }
      ]
    },
    {
      "cell_type": "code",
      "source": [
        "# 홀수 인덱스 찾기\n",
        "arr = np.array([1,2,3,4,5,6,7,8,])\n",
        "x = np.where(arr % 2 == 1)\n",
        "print(x)"
      ],
      "metadata": {
        "colab": {
          "base_uri": "https://localhost:8080/"
        },
        "id": "4oJfuTnIG7os",
        "outputId": "562b36f3-d909-40f6-affc-104051e13c05"
      },
      "execution_count": 4,
      "outputs": [
        {
          "output_type": "stream",
          "name": "stdout",
          "text": [
            "(array([0, 2, 4, 6]),)\n"
          ]
        }
      ]
    },
    {
      "cell_type": "markdown",
      "source": [
        "# 정렬 검색"
      ],
      "metadata": {
        "id": "LXL934d7Hk-I"
      }
    },
    {
      "cell_type": "code",
      "source": [
        "arr = np.array([6,7,8,9])\n",
        "x = np.searchsorted(arr, 7)\n",
        "print(x)"
      ],
      "metadata": {
        "colab": {
          "base_uri": "https://localhost:8080/"
        },
        "id": "opOQe_Q_Ho5Q",
        "outputId": "ee6a2866-a8ea-40dc-8b83-84315b774d0e"
      },
      "execution_count": 5,
      "outputs": [
        {
          "output_type": "stream",
          "name": "stdout",
          "text": [
            "1\n"
          ]
        }
      ]
    },
    {
      "cell_type": "code",
      "source": [
        "# 오른쪽부터 찾기\n",
        "arr = np.array([6,7,8,9])\n",
        "x = np.searchsorted(arr, 7, side='right')  #오른쪽기준으로 인덱스 2에 7을 삽입\n",
        "print(x)"
      ],
      "metadata": {
        "colab": {
          "base_uri": "https://localhost:8080/"
        },
        "id": "DoU4TBjDIDHe",
        "outputId": "93f78325-22c9-4b07-a17f-a6936e3750fe"
      },
      "execution_count": 6,
      "outputs": [
        {
          "output_type": "stream",
          "name": "stdout",
          "text": [
            "2\n"
          ]
        }
      ]
    },
    {
      "cell_type": "markdown",
      "source": [
        "# 다중값"
      ],
      "metadata": {
        "id": "iopuqfywITNd"
      }
    },
    {
      "cell_type": "code",
      "source": [
        "# 값 2, 4, 6을 삽입해야 하는 인덱스 찾기\n",
        "arr = np.array([1,3,5,7])\n",
        "x = np.searchsorted(arr, [2,4,6])\n",
        "print(x) # 반환값은 배열이다. [1,2,3] 순서를 유지하기 위해 원래 배열에 2,4,6이 삽입되는 인덱스가 포함"
      ],
      "metadata": {
        "colab": {
          "base_uri": "https://localhost:8080/"
        },
        "id": "beOXRPxTIUD2",
        "outputId": "964812eb-2fd2-4869-8297-36c5addcae4a"
      },
      "execution_count": 7,
      "outputs": [
        {
          "output_type": "stream",
          "name": "stdout",
          "text": [
            "[1 2 3]\n"
          ]
        }
      ]
    }
  ]
}